{
 "cells": [
  {
   "attachments": {},
   "cell_type": "markdown",
   "metadata": {},
   "source": [
    "# 001 - Exploratory\n",
    "\n",
    "This notebook demonstrates that the representation of an `IfcAlignment` entity -\n",
    "in this case, an `IfcGradientCurve` - is not initially supported in `ifcopenshell`.\n",
    "\n",
    "Note the use of `get_log()` to return debugging information."
   ]
  },
  {
   "cell_type": "code",
   "execution_count": 3,
   "metadata": {},
   "outputs": [
    {
     "ename": "RuntimeError",
     "evalue": "[Error] [2023-07-08 15:57:44] Not implemented\n#511=IfcCurveSegment(.CONTSAMEGRADIENTSAMECURVATURE.,#517,IfcNonNegativeLengthMeasure(0.),IfcParameterValue(61.6732236801535),#520)\n[Error] [2023-07-08 15:57:44] Failed to convert:\n#510=IfcGradientCurve((#511,#524,#536,#549,#561,#574,#586,#599,#611,#624,#636,#649,#661,#674,#686,#699,#711,#724,#736,#749),.F.,#204,$)\n",
     "output_type": "error",
     "traceback": [
      "\u001b[0;31m---------------------------------------------------------------------------\u001b[0m",
      "\u001b[0;31mRuntimeError\u001b[0m                              Traceback (most recent call last)",
      "Cell \u001b[0;32mIn[3], line 39\u001b[0m\n\u001b[1;32m     38\u001b[0m \u001b[39mtry\u001b[39;00m:\n\u001b[0;32m---> 39\u001b[0m     shp \u001b[39m=\u001b[39m ifcopenshell\u001b[39m.\u001b[39;49mgeom\u001b[39m.\u001b[39;49mcreate_shape(s, align)\n\u001b[1;32m     40\u001b[0m     shp\n",
      "File \u001b[0;32m~/miniconda3/envs/pyoccenv/lib/python3.9/site-packages/ifcopenshell/geom/main.py:210\u001b[0m, in \u001b[0;36mcreate_shape\u001b[0;34m(settings, inst, repr)\u001b[0m\n\u001b[1;32m    182\u001b[0m \u001b[39m\u001b[39m\u001b[39m\"\"\"\u001b[39;00m\n\u001b[1;32m    183\u001b[0m \u001b[39mReturn a geometric representation from STEP-based IFCREPRESENTATIONSHAPE\u001b[39;00m\n\u001b[1;32m    184\u001b[0m \u001b[39mor\u001b[39;00m\n\u001b[0;32m   (...)\u001b[0m\n\u001b[1;32m    206\u001b[0m \u001b[39m            print(\"Shape creation failed\")\u001b[39;00m\n\u001b[1;32m    207\u001b[0m \u001b[39m\"\"\"\u001b[39;00m\n\u001b[1;32m    208\u001b[0m \u001b[39mreturn\u001b[39;00m wrap_shape_creation(\n\u001b[1;32m    209\u001b[0m     settings,\n\u001b[0;32m--> 210\u001b[0m     ifcopenshell_wrapper\u001b[39m.\u001b[39;49mcreate_shape(settings, inst\u001b[39m.\u001b[39;49mwrapped_data, \u001b[39mrepr\u001b[39;49m\u001b[39m.\u001b[39;49mwrapped_data \u001b[39mif\u001b[39;49;00m \u001b[39mrepr\u001b[39;49m \u001b[39mis\u001b[39;49;00m \u001b[39mnot\u001b[39;49;00m \u001b[39mNone\u001b[39;49;00m \u001b[39melse\u001b[39;49;00m \u001b[39mNone\u001b[39;49;00m),\n\u001b[1;32m    211\u001b[0m )\n",
      "File \u001b[0;32m~/miniconda3/envs/pyoccenv/lib/python3.9/site-packages/ifcopenshell/ifcopenshell_wrapper.py:1770\u001b[0m, in \u001b[0;36mcreate_shape\u001b[0;34m(settings, instance, representation)\u001b[0m\n\u001b[1;32m   1769\u001b[0m \u001b[39m\u001b[39m\u001b[39mr\u001b[39m\u001b[39m\"\"\"create_shape(IteratorSettings settings, entity_instance instance, entity_instance representation=None) -> boost::variant< IfcGeom::Element *,IfcGeom::Representation::Representation * >\"\"\"\u001b[39;00m\n\u001b[0;32m-> 1770\u001b[0m \u001b[39mreturn\u001b[39;00m _ifcopenshell_wrapper\u001b[39m.\u001b[39;49mcreate_shape(settings, instance, representation)\n",
      "\u001b[0;31mRuntimeError\u001b[0m: Failed to process shape",
      "\nDuring handling of the above exception, another exception occurred:\n",
      "\u001b[0;31mRuntimeError\u001b[0m                              Traceback (most recent call last)",
      "Cell \u001b[0;32mIn[3], line 43\u001b[0m\n\u001b[1;32m     41\u001b[0m \u001b[39mexcept\u001b[39;00m \u001b[39mRuntimeError\u001b[39;00m:\n\u001b[1;32m     42\u001b[0m     msg \u001b[39m=\u001b[39m ifcopenshell\u001b[39m.\u001b[39mget_log()\n\u001b[0;32m---> 43\u001b[0m     \u001b[39mraise\u001b[39;00m \u001b[39mRuntimeError\u001b[39;00m(msg)\n",
      "\u001b[0;31mRuntimeError\u001b[0m: [Error] [2023-07-08 15:57:44] Not implemented\n#511=IfcCurveSegment(.CONTSAMEGRADIENTSAMECURVATURE.,#517,IfcNonNegativeLengthMeasure(0.),IfcParameterValue(61.6732236801535),#520)\n[Error] [2023-07-08 15:57:44] Failed to convert:\n#510=IfcGradientCurve((#511,#524,#536,#549,#561,#574,#586,#599,#611,#624,#636,#649,#661,#674,#686,#699,#711,#724,#736,#749),.F.,#204,$)\n"
     ]
    }
   ],
   "source": [
    "import pathlib\n",
    "import os\n",
    "\n",
    "import ifcopenshell\n",
    "import ifcopenshell.geom\n",
    "\n",
    "s= ifcopenshell.geom.settings()\n",
    "\n",
    "# s.set(s.USE_PYTHON_OPENCASCADE, True)\n",
    "s.set(s.INCLUDE_CURVES, True)\n",
    "\n",
    "index = 1\n",
    "geometry = True\n",
    "\n",
    "test_name = f\"UT_AWC_{index}\"\n",
    "awc_path = os.path.join(\n",
    "    pathlib.Path.home(),\n",
    "    \"src\",\n",
    "    \"IFC-Rail-Sample-Files\",\n",
    "    \"1_Alignment with Cant (AWC)\",\n",
    "    test_name,\n",
    "    \"IFC reference files\",\n",
    "    \"RC4\",\n",
    ")\n",
    "if geometry:\n",
    "    test_file = f\"{test_name}.ifc\"\n",
    "else:\n",
    "    test_file = f\"{test_name}_no_geometry.ifc\"\n",
    "in_file = os.path.join(awc_path, test_file)\n",
    "\n",
    "model = ifcopenshell.open(in_file)\n",
    "\n",
    "align = model.by_type(\"IfcAlignment\")[0]\n",
    "\n",
    "clot = model.by_type(\"IfcClothoid\")[0]\n",
    "seg = model.by_type(\"IfcCurveSegment\")[0]\n",
    "\n",
    "try:\n",
    "    shp = ifcopenshell.geom.create_shape(s, align)\n",
    "    shp\n",
    "except RuntimeError:\n",
    "    msg = ifcopenshell.get_log()\n",
    "    raise RuntimeError(msg)"
   ]
  }
 ],
 "metadata": {
  "kernelspec": {
   "display_name": "ifcopenshell",
   "language": "python",
   "name": "python3"
  },
  "language_info": {
   "codemirror_mode": {
    "name": "ipython",
    "version": 3
   },
   "file_extension": ".py",
   "mimetype": "text/x-python",
   "name": "python",
   "nbconvert_exporter": "python",
   "pygments_lexer": "ipython3",
   "version": "3.9.16"
  },
  "orig_nbformat": 4
 },
 "nbformat": 4,
 "nbformat_minor": 2
}
