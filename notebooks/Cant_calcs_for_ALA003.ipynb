{
 "cells": [
  {
   "cell_type": "markdown",
   "id": "ed553e4e-05ab-4c0a-bafd-cb623b25cd1f",
   "metadata": {},
   "source": [
    "# Calculations for Cant Alignment\n",
    "\n",
    "Rule ALA003 of the buildingSMART [validation service](https://validate.buildingsmart.org)\n",
    "looks at individual alignment segments to confirm that the same geometry type is used in the business logic\n",
    "and in the geometric representation.\n",
    "\n",
    "During development, there was a question raised regarding the proper entity type to be used in the representation segment\n",
    "that corresponds to a linear transition of cant in the business logic.\n",
    "The ensuing discussion in the implementer's forum in [IFC4.x-IF#145](https://github.com/buildingSMART/IFC4.x-IF/issues/145)\n",
    "lead to considerable confusion on my part.\n",
    "\n",
    "Therefore I decided to develop this notebook to do some calculations for the [model in question](https://github.com/user-attachments/files/15816340/ACCA_sleepers-linear-placement-cant-implicit.zip)."
   ]
  },
  {
   "cell_type": "code",
   "execution_count": 1,
   "id": "0dd6567d-8327-46be-b760-a9c2938e9959",
   "metadata": {},
   "outputs": [],
   "source": [
    "import os\n",
    "\n",
    "import numpy as np\n",
    "\n",
    "import ifcopenshell\n",
    "import ifcopenshell.geom as geom\n",
    "\n",
    "s = geom.settings()\n",
    "\n",
    "IN_PATH = os.path.join(\"..\", \"assets\", \"models\", \"alignment_validation\")\n",
    "FILE_NAME = \"ACCA_sleepers-linear-placement-cant-implicit.ifc\"\n",
    "IN_FILE = os.path.join(IN_PATH, FILE_NAME)\n",
    "\n",
    "model = ifcopenshell.open(IN_FILE)"
   ]
  },
  {
   "cell_type": "code",
   "execution_count": 2,
   "id": "c673061a-bfd5-4671-b064-76b1cddb42b8",
   "metadata": {},
   "outputs": [
    {
     "data": {
      "text/plain": [
       "#2497=IfcAlignment('2rc47I60124e8RihHvjEbb',#1,'Test Alignment',$,$,#2746,#2749,$)"
      ]
     },
     "execution_count": 2,
     "metadata": {},
     "output_type": "execute_result"
    }
   ],
   "source": [
    "# per inspection, this model contains only 1 alignment\n",
    "align = model.by_type(\"IfcAlignment\")[0]\n",
    "align"
   ]
  },
  {
   "cell_type": "code",
   "execution_count": 3,
   "id": "8926e7af-2393-4a3c-941c-82dbe5d87b1b",
   "metadata": {},
   "outputs": [
    {
     "data": {
      "text/plain": [
       "#2749=IfcProductDefinitionShape($,$,(#2750,#2751))"
      ]
     },
     "execution_count": 3,
     "metadata": {},
     "output_type": "execute_result"
    }
   ],
   "source": [
    "prod_rep = align.Representation\n",
    "prod_rep"
   ]
  },
  {
   "cell_type": "code",
   "execution_count": 4,
   "id": "02265ab8-76ba-404b-b292-f2ad334af38b",
   "metadata": {},
   "outputs": [
    {
     "data": {
      "text/plain": [
       "(#2750=IfcShapeRepresentation(#2752,'Axis','Curve3D',(#2668)),\n",
       " #2751=IfcShapeRepresentation(#2752,'FootPrint','Curve2D',(#2572)))"
      ]
     },
     "execution_count": 4,
     "metadata": {},
     "output_type": "execute_result"
    }
   ],
   "source": [
    "shape_reps = prod_rep.Representations\n",
    "shape_reps"
   ]
  },
  {
   "cell_type": "code",
   "execution_count": 5,
   "id": "ec0bd3df-9f07-4ae6-afd7-a27c2dfc495f",
   "metadata": {},
   "outputs": [
    {
     "data": {
      "text/plain": [
       "#2668=IfcSegmentedReferenceCurve((#2669,#2681,#2695,#2709,#2727),.F.,#2630,#2723)"
      ]
     },
     "execution_count": 5,
     "metadata": {},
     "output_type": "execute_result"
    }
   ],
   "source": [
    "seg_ref_curve = shape_reps[0].Items[0]\n",
    "seg_ref_curve"
   ]
  },
  {
   "cell_type": "code",
   "execution_count": 6,
   "id": "bbe05b93-7c26-47a2-bef8-ec8fdfc5be3d",
   "metadata": {},
   "outputs": [
    {
     "data": {
      "text/plain": [
       "#2630=IfcGradientCurve((#2631,#2650),.F.,#2572,#2647)"
      ]
     },
     "execution_count": 6,
     "metadata": {},
     "output_type": "execute_result"
    }
   ],
   "source": [
    "grad_curve = seg_ref_curve.BaseCurve\n",
    "grad_curve"
   ]
  },
  {
   "cell_type": "code",
   "execution_count": 7,
   "id": "cb581ca1-a964-4d1f-951d-fd23abb9d72d",
   "metadata": {},
   "outputs": [
    {
     "data": {
      "text/plain": [
       "#2572=IfcCompositeCurve((#2573,#2586,#2598,#2611),.F.)"
      ]
     },
     "execution_count": 7,
     "metadata": {},
     "output_type": "execute_result"
    }
   ],
   "source": [
    "comp_curve = grad_curve.BaseCurve\n",
    "comp_curve"
   ]
  },
  {
   "cell_type": "code",
   "execution_count": 8,
   "id": "2e6d43f5-86ee-4427-955b-11c7b769dac6",
   "metadata": {},
   "outputs": [
    {
     "data": {
      "text/plain": [
       "#2541=IfcAlignmentCant('2uexyjTX5CfOJI4h9D7ngN',#1,'CANT',$,$,#2743,$,1.5)"
      ]
     },
     "execution_count": 8,
     "metadata": {},
     "output_type": "execute_result"
    }
   ],
   "source": [
    "# traverse the alignment cant layout\n",
    "\n",
    "for _ in align.IsNestedBy[0].RelatedObjects:\n",
    "    if _.is_a() == \"IfcAlignmentCant\":\n",
    "        cant_layout = _\n",
    "\n",
    "cant_layout\n"
   ]
  },
  {
   "cell_type": "code",
   "execution_count": 9,
   "id": "b6335577-7ef8-49eb-ba27-e67dc522a85f",
   "metadata": {},
   "outputs": [
    {
     "name": "stdout",
     "output_type": "stream",
     "text": [
      "#2551=IfcAlignmentCantSegment($,$,0.,400.,0.,0.,0.,0.,.CONSTANTCANT.)\n",
      "#2557=IfcAlignmentCantSegment($,$,400.,49.999993741124,0.,1.,0.,0.,.LINEARTRANSITION.)\n",
      "#2563=IfcAlignmentCantSegment($,$,449.999993741124,100.000006258876,1.,1.,0.,0.,.CONSTANTCANT.)\n",
      "#2569=IfcAlignmentCantSegment($,$,550.,400.,1.,0.,0.,0.,.LINEARTRANSITION.)\n",
      "#2737=IfcAlignmentCantSegment($,$,950.,0.,0.,0.,0.,0.,.LINEARTRANSITION.)\n"
     ]
    }
   ],
   "source": [
    "for seg in cant_layout.IsNestedBy[0].RelatedObjects:\n",
    "    dp = seg.DesignParameters\n",
    "    print(dp)"
   ]
  },
  {
   "cell_type": "markdown",
   "id": "ea8d7f2b-067e-4d44-9d97-1a6820a3ae11",
   "metadata": {},
   "source": [
    "From inspection, we see that the initial transition in the cant layout, #2557,\n",
    "is a linear transition from 0.0 to 1.0 m of cant from distance 400.0 to 450.0.\n",
    "\n",
    "Therefore, create a function to calculate the cant values at 5 m intervals along this transition.\n",
    "We're helped by the fact that there is no change in the vertical alignment along this portion of the alignment,\n",
    "meaning that the calculated elevations are 0.0.\n",
    "Therefore, the `z` coordinate of the segmented reference curve corresponds to 1/2 the total cant.\n",
    "\n",
    "The low rail is the axis of rotation and the total cant is the distance the high rail is elevated above its normal position.\n",
    "Therefore at the centerline of rail, where the alignment is located, the `z` coordinate is 1/2 the total cant amount.\n",
    "\n",
    "Said another way:\n",
    "\n",
    "```python\n",
    "segmented_ref_curve_z = gradient_curve_z + 0.5 * total_cant\n",
    "\n",
    "if gradient_curve_z == 0:\n",
    "    segmented_ref_curve_z = 0.5 * total_cant\n",
    "```"
   ]
  },
  {
   "cell_type": "code",
   "execution_count": 10,
   "id": "1a9d1cdc-ae8c-4c71-9967-f0e357b1ee2e",
   "metadata": {},
   "outputs": [],
   "source": [
    "def evaluate_u(curve: ifcopenshell.entity_instance, dist_along: float) -> np.ndarray:\n",
    "    pwf = ifcopenshell.ifcopenshell_wrapper.map_shape(s, curve.wrapped_data)\n",
    "    t = pwf.evaluate(dist_along)\n",
    "    ar = np.array(t)\n",
    "    x = ar[0][3]\n",
    "    y = ar[1][3]\n",
    "    z = ar[2][3]\n",
    "    return np.array([dist_along, x, y, z], dtype=np.float64)\n",
    "\n"
   ]
  },
  {
   "cell_type": "code",
   "execution_count": 11,
   "id": "5fdafb57-989e-4fab-a15a-a9c2e3f30a24",
   "metadata": {},
   "outputs": [],
   "source": [
    "# set up the distances to be evaluated\n",
    "distances = np.linspace(start=400.0, stop=450.0, num=11, endpoint=True, dtype=np.float64)\n",
    "\n",
    "coords = np.array([evaluate_u(seg_ref_curve, d) for d in distances])\n"
   ]
  },
  {
   "cell_type": "markdown",
   "id": "5ff9a191-e504-4fa1-9e45-74aec9fad24f",
   "metadata": {},
   "source": [
    "This is obviously far from a correctly pythonic use of numpy, but it gets the job done."
   ]
  },
  {
   "cell_type": "code",
   "execution_count": 12,
   "id": "b5b26461-4eed-418c-a560-623dc0d8811f",
   "metadata": {},
   "outputs": [
    {
     "data": {
      "text/plain": [
       "array([[4.00000000e+02, 0.00000000e+00],\n",
       "       [4.05000000e+02, 9.99950129e-02],\n",
       "       [4.10000000e+02, 1.99990026e-01],\n",
       "       [4.14999997e+02, 2.99985039e-01],\n",
       "       [4.19999986e+02, 3.99980052e-01],\n",
       "       [4.24999957e+02, 4.99975064e-01],\n",
       "       [4.29999892e+02, 5.99970077e-01],\n",
       "       [4.34999766e+02, 6.99965090e-01],\n",
       "       [4.39999545e+02, 7.99960103e-01],\n",
       "       [4.44999180e+02, 8.99955116e-01],\n",
       "       [4.49998611e+02, 9.99950129e-01]])"
      ]
     },
     "execution_count": 12,
     "metadata": {},
     "output_type": "execute_result"
    }
   ],
   "source": [
    "# slice a 2d array of [distance_along, total cant]\n",
    "\n",
    "cant_coords = np.array([coords[:, 1], 2 * coords[:, 3]], dtype=np.float64).T\n",
    "cant_coords"
   ]
  },
  {
   "cell_type": "markdown",
   "id": "b7626fde-4ff9-42c1-8f23-7ee0344a7eec",
   "metadata": {},
   "source": [
    "## Conclusion\n",
    "\n",
    "It still may not make sense to me, but the [IfcOpenShell](https://www.ifcopenshell.org) implementation clearly calculates the correct values of cant\n",
    "for this example model.\n",
    "Therefore I'm happy to stand corrected, with thanks to [RickBrice](https://github.com/RickBrice) and [peterrdf](https://github.com/peterrdf)\n",
    "for their patience and explanation."
   ]
  }
 ],
 "metadata": {
  "kernelspec": {
   "display_name": "Python 3 (ipykernel)",
   "language": "python",
   "name": "python3"
  },
  "language_info": {
   "codemirror_mode": {
    "name": "ipython",
    "version": 3
   },
   "file_extension": ".py",
   "mimetype": "text/x-python",
   "name": "python",
   "nbconvert_exporter": "python",
   "pygments_lexer": "ipython3",
   "version": "3.11.8"
  }
 },
 "nbformat": 4,
 "nbformat_minor": 5
}
